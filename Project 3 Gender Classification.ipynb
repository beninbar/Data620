{
 "cells": [
  {
   "cell_type": "markdown",
   "id": "f1d378bf",
   "metadata": {},
   "source": [
    "#### Import Frameworks"
   ]
  },
  {
   "cell_type": "code",
   "execution_count": 1,
   "id": "67d5d0db",
   "metadata": {},
   "outputs": [],
   "source": [
    "from nltk.corpus import names\n",
    "import nltk\n",
    "import numpy as np\n",
    "import pandas as pd\n",
    "import random\n",
    "import seaborn as sns\n",
    "from matplotlib import pyplot as plt"
   ]
  },
  {
   "cell_type": "markdown",
   "id": "fec709c2",
   "metadata": {},
   "source": [
    "#### Project Instructions"
   ]
  },
  {
   "cell_type": "markdown",
   "id": "7b5d1311",
   "metadata": {},
   "source": [
    "Using any of the three classifiers described in chapter 6 of Natural Language Processing with Python, and any features you can think of, build the best name gender classifier you can. Begin by splitting the Names Corpus into three subsets: 500 words for the test set, 500 words for the dev-test set, and the remaining 6900 words for the training set. Then, starting with the example name gender classifier, make incremental improvements. Use the dev-test set to check your progress. Once you are satisfied with your classifier, check its final performance on the test set. How does the performance on the test set compare to the performance on the dev-test set? Is this what you'd expect?\n",
    "\n",
    "\n",
    "Source: Natural Language Processing with Python, exercise 6.10.2."
   ]
  },
  {
   "cell_type": "markdown",
   "id": "0be8bc76",
   "metadata": {},
   "source": [
    "Following initial guidance from NLTK book"
   ]
  },
  {
   "cell_type": "markdown",
   "id": "a23f0c94",
   "metadata": {},
   "source": [
    "#### Randomize Names"
   ]
  },
  {
   "cell_type": "code",
   "execution_count": 38,
   "id": "653cb633",
   "metadata": {},
   "outputs": [
    {
     "data": {
      "text/plain": [
       "7944"
      ]
     },
     "execution_count": 38,
     "metadata": {},
     "output_type": "execute_result"
    }
   ],
   "source": [
    "labeled_names = ([(name, 'male') for name in names.words('male.txt')]\\\n",
    "                 +[(name, 'female') for name in names.words('female.txt')])\n",
    "random.shuffle(labeled_names)\n",
    "\n",
    "len(labeled_names)"
   ]
  },
  {
   "cell_type": "markdown",
   "id": "b7d9b665",
   "metadata": {},
   "source": [
    "#### Set up Test and Train subsets\n",
    "\n",
    "Since the length of our `labeled_names` data is 7944, we split into training, dev, and test sets at an approximately 81%, 12%, 6% split."
   ]
  },
  {
   "cell_type": "code",
   "execution_count": 21,
   "id": "84b392a2",
   "metadata": {},
   "outputs": [],
   "source": [
    "train_names = labeled_names[1500:]\n",
    "devtest_names = labeled_names[500:1500]\n",
    "test_names = labeled_names[:500]"
   ]
  },
  {
   "cell_type": "markdown",
   "id": "9798750b",
   "metadata": {},
   "source": [
    "#### Preliminary Feature Function for Classification\n",
    "\n",
    "The first feature classifier consists of pulling 3 elements: first letter of name, last letter of name, and last 2 letters of the name."
   ]
  },
  {
   "cell_type": "code",
   "execution_count": 35,
   "id": "61f867a4",
   "metadata": {},
   "outputs": [],
   "source": [
    "def classify_gender1(name):\n",
    "    features = {}\n",
    "    features[\"first_letter\"] = name[0].lower()\n",
    "    features[\"last_letter\"] = name[-1].lower()\n",
    "    features['last_two_letters'] = name[-2:].lower()\n",
    "    return features"
   ]
  },
  {
   "cell_type": "code",
   "execution_count": 39,
   "id": "9b028c3b",
   "metadata": {},
   "outputs": [
    {
     "name": "stdout",
     "output_type": "stream",
     "text": [
      "0.805\n"
     ]
    }
   ],
   "source": [
    "feature1 = [(classify_gender1(n), gender) for (n, gender) in train_names]\n",
    "classifier = nltk.NaiveBayesClassifier.train(feature1)\n",
    "\n",
    "test_feature = [(classify_gender1(n),gender) for (n,gender) in devtest_names]\n",
    "print(nltk.classify.accuracy(classifier, test_feature))"
   ]
  },
  {
   "cell_type": "markdown",
   "id": "e5cbe04b",
   "metadata": {},
   "source": [
    "Overall, the NLTK textbook suggestions proposed using some of the first and last letters as features to predict gender performs reasonably well on the devtest data set. There are definitely ways to improve the model and the below will an attempt to feature engineer beyond what was proposed in the textbook. That iteration of a model is a good first step in the process to building out a gender classifier"
   ]
  },
  {
   "cell_type": "markdown",
   "id": "5b414d62",
   "metadata": {},
   "source": [
    "#### Reviewing Incorrect Predictions"
   ]
  },
  {
   "cell_type": "code",
   "execution_count": 43,
   "id": "031cc81c",
   "metadata": {},
   "outputs": [
    {
     "data": {
      "text/plain": [
       "[('female', 'male', 'Zoe'),\n",
       " ('female', 'male', 'Maridel'),\n",
       " ('female', 'male', 'Penny'),\n",
       " ('male', 'female', 'Irvine'),\n",
       " ('female', 'male', 'Flo'),\n",
       " ('female', 'male', 'Ambur'),\n",
       " ('female', 'male', 'Jessalin'),\n",
       " ('male', 'female', 'Arie'),\n",
       " ('female', 'male', 'Renel'),\n",
       " ('male', 'female', 'Alley')]"
      ]
     },
     "execution_count": 43,
     "metadata": {},
     "output_type": "execute_result"
    }
   ],
   "source": [
    "errors2 = []\n",
    "for (name, tag) in devtest_names:\n",
    " #   devt = [(classify_gender1(n), gender) for (n, gender) in devtest_names]\n",
    "    guess = classifier.classify(classify_gender1(name))\n",
    "    if guess != tag:\n",
    "        errors2.append( (tag, guess, name) )\n",
    "        \n",
    "errors2[:10]"
   ]
  },
  {
   "cell_type": "markdown",
   "id": "59a00690",
   "metadata": {},
   "source": [
    "Using the textbook provided process to review names that were incorrectly classified by the model"
   ]
  },
  {
   "cell_type": "code",
   "execution_count": 49,
   "id": "818cb3fd",
   "metadata": {},
   "outputs": [
    {
     "data": {
      "text/plain": [
       "(195, 6)"
      ]
     },
     "execution_count": 49,
     "metadata": {},
     "output_type": "execute_result"
    }
   ],
   "source": [
    "gend2 = pd.DataFrame(data=errors2,columns=['label','pred','name_input'])\n",
    "gend2['firstone'] = gend2['name_input'].apply(lambda x: x[0])\n",
    "gend2['lasttwo'] = gend2['name_input'].apply(lambda x: x[-2:])\n",
    "gend2['lastone'] = gend2['name_input'].apply(lambda x: x[-1])\n",
    "gend2.shape"
   ]
  },
  {
   "cell_type": "code",
   "execution_count": 50,
   "id": "8aa01b86",
   "metadata": {},
   "outputs": [
    {
     "data": {
      "text/html": [
       "<div>\n",
       "<style scoped>\n",
       "    .dataframe tbody tr th:only-of-type {\n",
       "        vertical-align: middle;\n",
       "    }\n",
       "\n",
       "    .dataframe tbody tr th {\n",
       "        vertical-align: top;\n",
       "    }\n",
       "\n",
       "    .dataframe thead th {\n",
       "        text-align: right;\n",
       "    }\n",
       "</style>\n",
       "<table border=\"1\" class=\"dataframe\">\n",
       "  <thead>\n",
       "    <tr style=\"text-align: right;\">\n",
       "      <th></th>\n",
       "      <th>label</th>\n",
       "      <th>pred</th>\n",
       "      <th>name_input</th>\n",
       "      <th>firstone</th>\n",
       "      <th>lasttwo</th>\n",
       "      <th>lastone</th>\n",
       "    </tr>\n",
       "  </thead>\n",
       "  <tbody>\n",
       "    <tr>\n",
       "      <th>0</th>\n",
       "      <td>female</td>\n",
       "      <td>male</td>\n",
       "      <td>Zoe</td>\n",
       "      <td>Z</td>\n",
       "      <td>oe</td>\n",
       "      <td>e</td>\n",
       "    </tr>\n",
       "    <tr>\n",
       "      <th>1</th>\n",
       "      <td>female</td>\n",
       "      <td>male</td>\n",
       "      <td>Maridel</td>\n",
       "      <td>M</td>\n",
       "      <td>el</td>\n",
       "      <td>l</td>\n",
       "    </tr>\n",
       "    <tr>\n",
       "      <th>2</th>\n",
       "      <td>female</td>\n",
       "      <td>male</td>\n",
       "      <td>Penny</td>\n",
       "      <td>P</td>\n",
       "      <td>ny</td>\n",
       "      <td>y</td>\n",
       "    </tr>\n",
       "    <tr>\n",
       "      <th>3</th>\n",
       "      <td>male</td>\n",
       "      <td>female</td>\n",
       "      <td>Irvine</td>\n",
       "      <td>I</td>\n",
       "      <td>ne</td>\n",
       "      <td>e</td>\n",
       "    </tr>\n",
       "    <tr>\n",
       "      <th>4</th>\n",
       "      <td>female</td>\n",
       "      <td>male</td>\n",
       "      <td>Flo</td>\n",
       "      <td>F</td>\n",
       "      <td>lo</td>\n",
       "      <td>o</td>\n",
       "    </tr>\n",
       "    <tr>\n",
       "      <th>5</th>\n",
       "      <td>female</td>\n",
       "      <td>male</td>\n",
       "      <td>Ambur</td>\n",
       "      <td>A</td>\n",
       "      <td>ur</td>\n",
       "      <td>r</td>\n",
       "    </tr>\n",
       "    <tr>\n",
       "      <th>6</th>\n",
       "      <td>female</td>\n",
       "      <td>male</td>\n",
       "      <td>Jessalin</td>\n",
       "      <td>J</td>\n",
       "      <td>in</td>\n",
       "      <td>n</td>\n",
       "    </tr>\n",
       "    <tr>\n",
       "      <th>7</th>\n",
       "      <td>male</td>\n",
       "      <td>female</td>\n",
       "      <td>Arie</td>\n",
       "      <td>A</td>\n",
       "      <td>ie</td>\n",
       "      <td>e</td>\n",
       "    </tr>\n",
       "    <tr>\n",
       "      <th>8</th>\n",
       "      <td>female</td>\n",
       "      <td>male</td>\n",
       "      <td>Renel</td>\n",
       "      <td>R</td>\n",
       "      <td>el</td>\n",
       "      <td>l</td>\n",
       "    </tr>\n",
       "    <tr>\n",
       "      <th>9</th>\n",
       "      <td>male</td>\n",
       "      <td>female</td>\n",
       "      <td>Alley</td>\n",
       "      <td>A</td>\n",
       "      <td>ey</td>\n",
       "      <td>y</td>\n",
       "    </tr>\n",
       "    <tr>\n",
       "      <th>10</th>\n",
       "      <td>female</td>\n",
       "      <td>male</td>\n",
       "      <td>Sophey</td>\n",
       "      <td>S</td>\n",
       "      <td>ey</td>\n",
       "      <td>y</td>\n",
       "    </tr>\n",
       "    <tr>\n",
       "      <th>11</th>\n",
       "      <td>male</td>\n",
       "      <td>female</td>\n",
       "      <td>Terence</td>\n",
       "      <td>T</td>\n",
       "      <td>ce</td>\n",
       "      <td>e</td>\n",
       "    </tr>\n",
       "    <tr>\n",
       "      <th>12</th>\n",
       "      <td>female</td>\n",
       "      <td>male</td>\n",
       "      <td>Hedwig</td>\n",
       "      <td>H</td>\n",
       "      <td>ig</td>\n",
       "      <td>g</td>\n",
       "    </tr>\n",
       "    <tr>\n",
       "      <th>13</th>\n",
       "      <td>female</td>\n",
       "      <td>male</td>\n",
       "      <td>Kaster</td>\n",
       "      <td>K</td>\n",
       "      <td>er</td>\n",
       "      <td>r</td>\n",
       "    </tr>\n",
       "    <tr>\n",
       "      <th>14</th>\n",
       "      <td>female</td>\n",
       "      <td>male</td>\n",
       "      <td>Clovis</td>\n",
       "      <td>C</td>\n",
       "      <td>is</td>\n",
       "      <td>s</td>\n",
       "    </tr>\n",
       "    <tr>\n",
       "      <th>15</th>\n",
       "      <td>male</td>\n",
       "      <td>female</td>\n",
       "      <td>Sully</td>\n",
       "      <td>S</td>\n",
       "      <td>ly</td>\n",
       "      <td>y</td>\n",
       "    </tr>\n",
       "    <tr>\n",
       "      <th>16</th>\n",
       "      <td>male</td>\n",
       "      <td>female</td>\n",
       "      <td>Abby</td>\n",
       "      <td>A</td>\n",
       "      <td>by</td>\n",
       "      <td>y</td>\n",
       "    </tr>\n",
       "    <tr>\n",
       "      <th>17</th>\n",
       "      <td>female</td>\n",
       "      <td>male</td>\n",
       "      <td>Kass</td>\n",
       "      <td>K</td>\n",
       "      <td>ss</td>\n",
       "      <td>s</td>\n",
       "    </tr>\n",
       "    <tr>\n",
       "      <th>18</th>\n",
       "      <td>female</td>\n",
       "      <td>male</td>\n",
       "      <td>Noreen</td>\n",
       "      <td>N</td>\n",
       "      <td>en</td>\n",
       "      <td>n</td>\n",
       "    </tr>\n",
       "    <tr>\n",
       "      <th>19</th>\n",
       "      <td>female</td>\n",
       "      <td>male</td>\n",
       "      <td>Brooke</td>\n",
       "      <td>B</td>\n",
       "      <td>ke</td>\n",
       "      <td>e</td>\n",
       "    </tr>\n",
       "  </tbody>\n",
       "</table>\n",
       "</div>"
      ],
      "text/plain": [
       "     label    pred name_input firstone lasttwo lastone\n",
       "0   female    male        Zoe        Z      oe       e\n",
       "1   female    male    Maridel        M      el       l\n",
       "2   female    male      Penny        P      ny       y\n",
       "3     male  female     Irvine        I      ne       e\n",
       "4   female    male        Flo        F      lo       o\n",
       "5   female    male      Ambur        A      ur       r\n",
       "6   female    male   Jessalin        J      in       n\n",
       "7     male  female       Arie        A      ie       e\n",
       "8   female    male      Renel        R      el       l\n",
       "9     male  female      Alley        A      ey       y\n",
       "10  female    male     Sophey        S      ey       y\n",
       "11    male  female    Terence        T      ce       e\n",
       "12  female    male     Hedwig        H      ig       g\n",
       "13  female    male     Kaster        K      er       r\n",
       "14  female    male     Clovis        C      is       s\n",
       "15    male  female      Sully        S      ly       y\n",
       "16    male  female       Abby        A      by       y\n",
       "17  female    male       Kass        K      ss       s\n",
       "18  female    male     Noreen        N      en       n\n",
       "19  female    male     Brooke        B      ke       e"
      ]
     },
     "execution_count": 50,
     "metadata": {},
     "output_type": "execute_result"
    }
   ],
   "source": [
    "gend2.head(20)"
   ]
  },
  {
   "cell_type": "markdown",
   "id": "29d84b46",
   "metadata": {},
   "source": [
    "Pulling into the dataframe to be able to review some of the common patterns which were incorrect. This could help trying to come up with new features that might further improved the model performance"
   ]
  },
  {
   "cell_type": "markdown",
   "id": "c361e403",
   "metadata": {},
   "source": [
    "For example, we can sample names that end with \"en\""
   ]
  },
  {
   "cell_type": "code",
   "execution_count": 51,
   "id": "fe0c4249",
   "metadata": {},
   "outputs": [
    {
     "data": {
      "text/plain": [
       "[('Glen', 'female'),\n",
       " ('Karlen', 'female'),\n",
       " ('Koren', 'female'),\n",
       " ('Nelsen', 'male'),\n",
       " ('Stephen', 'male'),\n",
       " ('Kirsten', 'female'),\n",
       " ('Darren', 'male'),\n",
       " ('Pegeen', 'female'),\n",
       " ('Aleen', 'female'),\n",
       " ('Caren', 'female'),\n",
       " ('Maximilien', 'male'),\n",
       " ('Hamlen', 'male'),\n",
       " ('Warren', 'male'),\n",
       " ('Morten', 'male'),\n",
       " ('Katleen', 'female'),\n",
       " ('Kellen', 'male'),\n",
       " ('Regen', 'male'),\n",
       " ('Keren', 'female'),\n",
       " ('Sven', 'male'),\n",
       " ('Maryellen', 'female')]"
      ]
     },
     "execution_count": 51,
     "metadata": {},
     "output_type": "execute_result"
    }
   ],
   "source": [
    "[(name,gend)for name,gend in train_names if name[-2:]=='en'][:20]"
   ]
  },
  {
   "cell_type": "markdown",
   "id": "3e35a1eb",
   "metadata": {},
   "source": [
    "#### Exploring  if larger n-grams might help gender classification\n",
    "\n",
    "Based on the charts, it would appear that there may be a little more stratification between the genders for 3-grams than 4-grams."
   ]
  },
  {
   "cell_type": "code",
   "execution_count": 52,
   "id": "e776bb76",
   "metadata": {},
   "outputs": [
    {
     "data": {
      "image/png": "[encoded data removed]",
      "text/plain": [
       "<Figure size 640x480 with 1 Axes>"
      ]
     },
     "metadata": {},
     "output_type": "display_data"
    }
   ],
   "source": [
    "first_three = [(g,n[:3]) for n,g in devtest_names]\n",
    "firstthree_df = pd.DataFrame(first_three,columns=['gender','first_three'])\n",
    "sns.countplot(x='first_three',data=firstthree_df,hue='gender',orient='v').set(xticklabels=[])\n",
    "#plt.xticks(rotation=90)\n",
    "plt.show();"
   ]
  },
  {
   "cell_type": "code",
   "execution_count": 53,
   "id": "99fb4552",
   "metadata": {},
   "outputs": [
    {
     "data": {
      "image/png": "[encoded data removed]",
      "text/plain": [
       "<Figure size 640x480 with 1 Axes>"
      ]
     },
     "metadata": {},
     "output_type": "display_data"
    }
   ],
   "source": [
    "first_four = [(g,n[:4]) for n,g in devtest_names]\n",
    "firstfour_df = pd.DataFrame(first_four,columns=['gender','first_four'])\n",
    "sns.countplot(x='first_four',data=firstfour_df,hue='gender',orient='v').set(xticklabels=[])\n",
    "#plt.xticks(rotation=90)\n",
    "plt.show();"
   ]
  },
  {
   "cell_type": "markdown",
   "id": "cdbbb688",
   "metadata": {},
   "source": [
    "#### Next classifier - using first letter, last letter, last two letters, first three letters, and first four letters.\n",
    "\n",
    "We combine our previous features with both the 3-gram and 4-gram features."
   ]
  },
  {
   "cell_type": "code",
   "execution_count": 55,
   "id": "71bb33a3",
   "metadata": {},
   "outputs": [],
   "source": [
    "def classify_gender2(name):\n",
    "    features = {}\n",
    "    features[\"first_letter\"] = name[0].lower()\n",
    "    features[\"last_letter\"] = name[-1].lower()\n",
    "    features['last_two_letters'] = name[-2].lower()\n",
    "    features['first_three_letters'] = name[:3].lower()\n",
    "    features['first_four_letters'] = name[:4].lower()\n",
    "    return features"
   ]
  },
  {
   "cell_type": "code",
   "execution_count": 64,
   "id": "e667f3d3",
   "metadata": {},
   "outputs": [
    {
     "name": "stdout",
     "output_type": "stream",
     "text": [
      "0.839\n"
     ]
    }
   ],
   "source": [
    "feature2 = [(classify_gender2(n), gender) for (n, gender) in train_names]\n",
    "classifier = nltk.NaiveBayesClassifier.train(feature2)\n",
    "\n",
    "devtest_feature2 = [(classify_gender2(n),gender) for (n,gender) in devtest_names]\n",
    "print(nltk.classify.accuracy(classifier, devtest_feature2))"
   ]
  },
  {
   "cell_type": "markdown",
   "id": "13e5d119",
   "metadata": {},
   "source": [
    "This doesn't do much on the dev_test data..."
   ]
  },
  {
   "cell_type": "code",
   "execution_count": 60,
   "id": "f24c8472",
   "metadata": {},
   "outputs": [
    {
     "name": "stdout",
     "output_type": "stream",
     "text": [
      "0.828\n"
     ]
    }
   ],
   "source": [
    "test2_feature = [(classify_gender2(n),gender) for (n,gender) in test_names]\n",
    "#test2_feature_dict = {(classify_gender2(n),gender) for (n,gender) in test_names}\n",
    "print(nltk.classify.accuracy(classifier, test2_feature))"
   ]
  },
  {
   "cell_type": "markdown",
   "id": "3b5b7a69",
   "metadata": {},
   "source": [
    "By adding a larger initial n-gram (3 & 4 letters) the model accuracy went up only slightly from the initial iteration of the model. One potential risk with the additional features added is that the first four letters could have some overlap with the first three letters feature. As the textbook suggested this may cause some overweighting given that naive bayes treats each feature as independent from the others."
   ]
  },
  {
   "cell_type": "markdown",
   "id": "79981acf",
   "metadata": {},
   "source": [
    "#### Next classifier - adding vowels and length of the name."
   ]
  },
  {
   "cell_type": "code",
   "execution_count": 62,
   "id": "d38e4e5b",
   "metadata": {},
   "outputs": [],
   "source": [
    "def classify_gender3(name):\n",
    "    features = {}\n",
    "    features[\"first_letter\"] = name[0].lower()\n",
    "    features[\"last_letter\"] = name[-1].lower()\n",
    "    features['last_two_letters'] = name[-2].lower()\n",
    "    features['first_three_letters'] = name[:3].lower()\n",
    "    features['first_four_letters'] = name[:4].lower()\n",
    "    features['vowels'] = len([let for let in name if let.lower() in 'aeiou'])\n",
    "    features['length'] = len(name)\n",
    "    return features"
   ]
  },
  {
   "cell_type": "code",
   "execution_count": 65,
   "id": "4390d3b8",
   "metadata": {},
   "outputs": [
    {
     "name": "stdout",
     "output_type": "stream",
     "text": [
      "0.846\n"
     ]
    }
   ],
   "source": [
    "feature3 = [(classify_gender3(n), gender) for (n, gender) in train_names]\n",
    "classifier = nltk.NaiveBayesClassifier.train(feature3)\n",
    "\n",
    "devtest_feature3 = [(classify_gender3(n),gender) for (n,gender) in devtest_names]\n",
    "print(nltk.classify.accuracy(classifier, devtest_feature3))"
   ]
  },
  {
   "cell_type": "code",
   "execution_count": 66,
   "id": "b6792c0b",
   "metadata": {},
   "outputs": [
    {
     "name": "stdout",
     "output_type": "stream",
     "text": [
      "0.81\n"
     ]
    }
   ],
   "source": [
    "test_feature3 = [(classify_gender3(n),gender) for (n,gender) in test_names]\n",
    "print(nltk.classify.accuracy(classifier, test_feature3))"
   ]
  },
  {
   "cell_type": "markdown",
   "id": "d4d2a613",
   "metadata": {},
   "source": [
    "Despite the additional features it does not appear to add any predictive power to the model and a simpler one would suffice and potentially extrapolate as well as the third iteration of the model. Perhaps this is due to the fact that the features were more generic to any name and less reliant of n-gram patterns. Given the performance of the model, it may not make sense to overfit it any further as these fairly basic features, in classify_gender2, are able to extrapolate fairly well to the test set."
   ]
  },
  {
   "cell_type": "markdown",
   "id": "32207e47",
   "metadata": {},
   "source": [
    "#### Applying the same model to a decision tree"
   ]
  },
  {
   "cell_type": "code",
   "execution_count": 69,
   "id": "e7d3ff30",
   "metadata": {},
   "outputs": [
    {
     "data": {
      "text/plain": [
       "0.636"
      ]
     },
     "execution_count": 69,
     "metadata": {},
     "output_type": "execute_result"
    }
   ],
   "source": [
    "classifier_dt = nltk.DecisionTreeClassifier.train(feature1)\n",
    "\n",
    "nltk.classify.accuracy(classifier_dt, devtest_feature)"
   ]
  },
  {
   "cell_type": "markdown",
   "id": "0b925d87",
   "metadata": {},
   "source": [
    "This model applied with an alternative classifier algorithm does not appear to be doing well at all. Let's try the additional features to see if it adds impact"
   ]
  },
  {
   "cell_type": "code",
   "execution_count": 71,
   "id": "b741097b",
   "metadata": {},
   "outputs": [
    {
     "data": {
      "text/plain": [
       "0.709"
      ]
     },
     "execution_count": 71,
     "metadata": {},
     "output_type": "execute_result"
    }
   ],
   "source": [
    "classifier_dt = nltk.DecisionTreeClassifier.train(feature2)\n",
    "\n",
    "nltk.classify.accuracy(classifier_dt, devtest_feature2)"
   ]
  },
  {
   "cell_type": "code",
   "execution_count": 72,
   "id": "c4d197bd",
   "metadata": {},
   "outputs": [
    {
     "data": {
      "text/plain": [
       "0.71"
      ]
     },
     "execution_count": 72,
     "metadata": {},
     "output_type": "execute_result"
    }
   ],
   "source": [
    "classifier_dt = nltk.DecisionTreeClassifier.train(feature3)\n",
    "\n",
    "nltk.classify.accuracy(classifier_dt, devtest_feature3)"
   ]
  },
  {
   "cell_type": "markdown",
   "id": "e139dac4",
   "metadata": {},
   "source": [
    "The additional features do appear to be adding at least some value to the Decision tree, but as with the Bayes, only the 2nd set of features (not the addition of vowels and names) makes a notable difference."
   ]
  },
  {
   "cell_type": "markdown",
   "id": "5ca7e81f",
   "metadata": {},
   "source": [
    "#### Exploring Base Decision Tree Rules"
   ]
  },
  {
   "cell_type": "code",
   "execution_count": 84,
   "id": "bff700dd",
   "metadata": {},
   "outputs": [
    {
     "name": "stdout",
     "output_type": "stream",
     "text": [
      "if first_four_letters == 'abag': return 'female'\n",
      "if first_four_letters == 'abbe': return 'male'\n",
      "if first_four_letters == 'abbi': return 'male'\n",
      "if first_four_letters == 'abbo': return 'male'\n",
      "if first_four_letters == 'abby': return 'female'\n",
      "if first_four_letters == 'abdu': return 'male'\n",
      "if first_four_letters == 'abe': return 'male'\n",
      "if first_four_letters == 'abel': return 'male'\n",
      "if first_four_letters == 'abig': return 'female'\n",
      "if first_four_letters == 'abne': return 'male'\n",
      "if first_four_letters == 'abra': return 'male'\n",
      "if first_four_letters == 'acac': return 'female'\n",
      "if first_four_letters == 'ace': return 'male'\n",
      "if first_four_letters == 'ada': return 'female'\n",
      "if first_four_letters == 'adah': return 'female'\n",
      "if first_four_letters == 'adai': return 'male'\n",
      "if first_four_letters == 'adal': return 'female'\n",
      "if first_four_letters == 'adam': return 'male'\n",
      "if first_four_letters == 'adar': return 'female'\n",
      "if first_four_letters == 'addi': return 'female'\n",
      "if first_four_letters == 'adel': return 'female'\n",
      "if first_four_letters == 'aden': return 'female'\n",
      "if first_four_letters == 'adey': return 'female'\n",
      "if first_four_letters == 'adge': return 'male'\n",
      "if first_four_letters == 'adi': return 'female'\n",
      "if first_four_letters == 'adia': return 'female'\n",
      "if first_four_letters == 'adin': return 'female'\n",
      "if first_four_letters == 'adit': return 'male'\n",
      "if first_four_letters == 'adla': return 'male'\n",
      "if first_four_letters == 'adna': return 'male'\n",
      "if first_four_letters == 'adol': return 'male'\n",
      "if first_four_let\n"
     ]
    }
   ],
   "source": [
    "print(classifier_dt.pseudocode(depth=4)[:1500])"
   ]
  },
  {
   "cell_type": "markdown",
   "id": "1a29b331",
   "metadata": {},
   "source": [
    "Many of the highest level rules are based on the first four letters and may be weaning out other more valuable features that exist. Let's try eliminating that feature to see how impacts the model"
   ]
  },
  {
   "cell_type": "code",
   "execution_count": 77,
   "id": "fba2aba0",
   "metadata": {},
   "outputs": [],
   "source": [
    "def classify_gender4(name):\n",
    "    features = {}\n",
    "    features[\"first_letter\"] = name[0].lower()\n",
    "    features[\"last_letter\"] = name[-1].lower()\n",
    "    features['last_two_letters'] = name[-2].lower()\n",
    "    features['first_three_letters'] = name[:3].lower()\n",
    "    #features['first_four_letters'] = name[:4].lower()\n",
    "    features['vowels'] = len([let for let in name if let.lower() in 'aeiou'])\n",
    "    features['length'] = len(name)\n",
    "    return features"
   ]
  },
  {
   "cell_type": "code",
   "execution_count": 78,
   "id": "220d2011",
   "metadata": {},
   "outputs": [
    {
     "name": "stdout",
     "output_type": "stream",
     "text": [
      "0.728\n"
     ]
    }
   ],
   "source": [
    "feature5 = [(classify_gender4(n), gender) for (n, gender) in train_names]\n",
    "classifier_dt2 = nltk.DecisionTreeClassifier.train(feature5)\n",
    "\n",
    "devtest_feature4 = [(classify_gender4(n),gender) for (n,gender) in devtest_names]\n",
    "print(nltk.classify.accuracy(classifier_dt2, devtest_feature4))"
   ]
  },
  {
   "cell_type": "code",
   "execution_count": 79,
   "id": "918ac4ca",
   "metadata": {},
   "outputs": [
    {
     "data": {
      "text/plain": [
       "0.738"
      ]
     },
     "execution_count": 79,
     "metadata": {},
     "output_type": "execute_result"
    }
   ],
   "source": [
    "dt_test_feature = [(classify_gender4(n),gender) for (n,gender) in test_names]\n",
    "nltk.classify.accuracy(classifier_dt2, dt_test_feature)"
   ]
  },
  {
   "cell_type": "markdown",
   "id": "3025a82a",
   "metadata": {},
   "source": [
    "There is slight improvement in the accuracy of the model by eliminating the first four letter feature. Let's review the top level decision trees leafs to determine if additional modifications are needed"
   ]
  },
  {
   "cell_type": "code",
   "execution_count": 83,
   "id": "ffa14341",
   "metadata": {},
   "outputs": [
    {
     "name": "stdout",
     "output_type": "stream",
     "text": [
      "if first_three_letters == 'aba': return 'female'\n",
      "if first_three_letters == 'abb': \n",
      "  if last_letter == 'e': return 'male'\n",
      "  if last_letter == 't': return 'male'\n",
      "  if last_letter == 'y': return 'female'\n",
      "if first_three_letters == 'abd': return 'male'\n",
      "if first_three_letters == 'abe': return 'male'\n",
      "if first_three_letters == 'abi': return 'female'\n",
      "if first_three_letters == 'abn': return 'male'\n",
      "if first_three_letters == 'abr': return 'male'\n",
      "if first_three_letters == 'aca': return 'female'\n",
      "if first_three_letters == 'ace': return 'male'\n",
      "if first_three_letters == 'ada': \n",
      "  if last_letter == 'a': return 'female'\n",
      "  if last_letter == 'e': return 'female'\n",
      "  if last_letter == 'h': return 'female'\n",
      "  if last_letter == 'm': return 'male'\n",
      "  if last_letter == 'r': return 'male'\n",
      "  if last_letter == 's': return 'male'\n",
      "if first_three_letters == 'add': return 'female'\n",
      "if first_three_letters == 'ade': return 'female'\n",
      "if first_three_letters == 'adg': return 'male'\n",
      "if first_three_letters == 'adi': \n",
      "  if last_two_letters == 'd': return 'female'\n",
      "  if last_two_letters == 'n': return 'female'\n",
      "  if last_two_letters == 'y': return 'male'\n",
      "if first_three_letters == 'adl': return 'male'\n",
      "if first_three_letters == 'adn': return 'male'\n",
      "if first_three_letters == 'ado': \n",
      "  if last_two_letters == 'e': return 'female'\n",
      "  if last_two_letters == 'f': return 'male'\n",
      "  if last_two_letters == 'h': return 'male'\n",
      "  if last_two_letters == 'l': return 'male'\n",
      "  if last_two_letters == 'n': return 'female'\n",
      "  if last_two_letters ==\n"
     ]
    }
   ],
   "source": [
    "print(classifier_dt2.pseudocode(depth=4)[:1500])"
   ]
  },
  {
   "cell_type": "markdown",
   "id": "8d8e7bc9",
   "metadata": {},
   "source": [
    "The higher level leaves of this decision tree appear more varied than the last review although the performance of the model is substantially lower than when using Naive Bayes"
   ]
  }
 ],
 "metadata": {
  "kernelspec": {
   "display_name": "Python 3 (ipykernel)",
   "language": "python",
   "name": "python3"
  },
  "language_info": {
   "codemirror_mode": {
    "name": "ipython",
    "version": 3
   },
   "file_extension": ".py",
   "mimetype": "text/x-python",
   "name": "python",
   "nbconvert_exporter": "python",
   "pygments_lexer": "ipython3",
   "version": "3.8.5"
  }
 },
 "nbformat": 4,
 "nbformat_minor": 5
}
