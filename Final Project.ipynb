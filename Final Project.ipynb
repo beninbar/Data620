{
 "cells": [
  {
   "cell_type": "markdown",
   "id": "5d6e48be",
   "metadata": {},
   "source": [
    "#### Introduction: Final Project"
   ]
  },
  {
   "cell_type": "markdown",
   "id": "8373298b",
   "metadata": {},
   "source": [
    "#### Group: Josh Forster & Ben Inbar"
   ]
  },
  {
   "cell_type": "markdown",
   "id": "ffd9a3ba",
   "metadata": {},
   "source": [
    "The final project prompt is fairly open-ended and the main premise of the assignment is to demonstrate a thorough  analysis of a dataset that has network components as well as potential text analysis via NLP methods learned throughout the course. Although these two topic areas diverge in some respect we were able to identify a publicly available Wayfair [dataset](https://github.com/wayfair/WANDS/blob/main/README.md) that lists common product queries on their platform and provides an annotated classificaiton of the result relevancy. In this way, there are several areas that we intend to explore through this workbook:\n",
    "\n",
    "- 1 Build a bipartite network where nodes are queries and products, and then produce a projection of products, potentially applying a weighting of normalized/factorized label, or average rating, or number of queries.\n",
    "- 2      Perform PageRank comparison against the provided labels to evaluate the probabilities of a search given a random customer. Further layering in some product information to determine likelihood of certain categories.\n",
    "- 3      Perform sentiment analysis on the product descriptions provided by the vendors to assess if sentiment correlates with search results positioning, potentially for comparison with customer ratings or number of queries.\n"
   ]
  },
  {
   "cell_type": "markdown",
   "id": "ba1e3d1c",
   "metadata": {},
   "source": [
    "#### Load Relevant Libraries"
   ]
  },
  {
   "cell_type": "code",
   "execution_count": 89,
   "id": "27ce6aa7",
   "metadata": {},
   "outputs": [],
   "source": [
    "import networkx as nx\n",
    "from networkx.algorithms import bipartite\n",
    "import matplotlib.pyplot as plt\n",
    "import pandas as pd\n",
    "import numpy as np\n",
    "import time\n",
    "import re\n",
    "import json\n",
    "import math\n",
    "import seaborn as sns"
   ]
  },
  {
   "cell_type": "code",
   "execution_count": 2,
   "id": "320e933a",
   "metadata": {},
   "outputs": [],
   "source": [
    "labels = 'https://raw.githubusercontent.com/wayfair/WANDS/main/dataset/label.csv'\n",
    "products = 'https://raw.githubusercontent.com/wayfair/WANDS/main/dataset/product.csv'\n",
    "queries = 'https://raw.githubusercontent.com/wayfair/WANDS/main/dataset/query.csv'"
   ]
  },
  {
   "cell_type": "markdown",
   "id": "a00698fe",
   "metadata": {},
   "source": [
    "#### Loading Labeled Dataset"
   ]
  },
  {
   "cell_type": "code",
   "execution_count": 10,
   "id": "b22cc48d",
   "metadata": {},
   "outputs": [
    {
     "data": {
      "text/html": [
       "<div>\n",
       "<style scoped>\n",
       "    .dataframe tbody tr th:only-of-type {\n",
       "        vertical-align: middle;\n",
       "    }\n",
       "\n",
       "    .dataframe tbody tr th {\n",
       "        vertical-align: top;\n",
       "    }\n",
       "\n",
       "    .dataframe thead th {\n",
       "        text-align: right;\n",
       "    }\n",
       "</style>\n",
       "<table border=\"1\" class=\"dataframe\">\n",
       "  <thead>\n",
       "    <tr style=\"text-align: right;\">\n",
       "      <th></th>\n",
       "      <th>id</th>\n",
       "      <th>query_id</th>\n",
       "      <th>product_id</th>\n",
       "      <th>label</th>\n",
       "    </tr>\n",
       "  </thead>\n",
       "  <tbody>\n",
       "    <tr>\n",
       "      <th>0</th>\n",
       "      <td>0</td>\n",
       "      <td>0</td>\n",
       "      <td>25434</td>\n",
       "      <td>Exact</td>\n",
       "    </tr>\n",
       "    <tr>\n",
       "      <th>1</th>\n",
       "      <td>1</td>\n",
       "      <td>0</td>\n",
       "      <td>12088</td>\n",
       "      <td>Irrelevant</td>\n",
       "    </tr>\n",
       "    <tr>\n",
       "      <th>2</th>\n",
       "      <td>2</td>\n",
       "      <td>0</td>\n",
       "      <td>42931</td>\n",
       "      <td>Exact</td>\n",
       "    </tr>\n",
       "    <tr>\n",
       "      <th>3</th>\n",
       "      <td>3</td>\n",
       "      <td>0</td>\n",
       "      <td>2636</td>\n",
       "      <td>Exact</td>\n",
       "    </tr>\n",
       "    <tr>\n",
       "      <th>4</th>\n",
       "      <td>4</td>\n",
       "      <td>0</td>\n",
       "      <td>42923</td>\n",
       "      <td>Exact</td>\n",
       "    </tr>\n",
       "  </tbody>\n",
       "</table>\n",
       "</div>"
      ],
      "text/plain": [
       "   id  query_id  product_id       label\n",
       "0   0         0       25434       Exact\n",
       "1   1         0       12088  Irrelevant\n",
       "2   2         0       42931       Exact\n",
       "3   3         0        2636       Exact\n",
       "4   4         0       42923       Exact"
      ]
     },
     "execution_count": 10,
     "metadata": {},
     "output_type": "execute_result"
    }
   ],
   "source": [
    "label_df = pd.read_csv(labels,delimiter='\\t')\n",
    "label_df.head()"
   ]
  },
  {
   "cell_type": "code",
   "execution_count": 12,
   "id": "0b4fd86c",
   "metadata": {},
   "outputs": [
    {
     "name": "stdout",
     "output_type": "stream",
     "text": [
      "id             int64\n",
      "query_id       int64\n",
      "product_id     int64\n",
      "label         object\n",
      "dtype: object (233448, 4)\n"
     ]
    }
   ],
   "source": [
    "print(label_df.dtypes, label_df.shape)"
   ]
  },
  {
   "cell_type": "code",
   "execution_count": 58,
   "id": "18fde57f",
   "metadata": {},
   "outputs": [
    {
     "data": {
      "image/png": "[encoded data removed]",
      "text/plain": [
       "<Figure size 640x480 with 1 Axes>"
      ]
     },
     "metadata": {},
     "output_type": "display_data"
    }
   ],
   "source": [
    "grouped_query_df = label_df.groupby('query_id')['id'].count()\n",
    "sns.histplot(grouped_query_df).set_title('Distribution of the Number of Returned Wayfair Query Results')\n",
    "plt.axvline(grouped_query_df.mean(), 0,150,linestyle='--',color='red',alpha=0.5)\n",
    "plt.show();"
   ]
  },
  {
   "cell_type": "markdown",
   "id": "d28cbec3",
   "metadata": {},
   "source": [
    "The distribution of the query results actually varies quite a bit more than anticipated with a heavy right skew, which would lead to the hypothesis that the terms themselves may have a relationship with the number of results provided. One additional data point to blend in would be the number of terms in the search to see how that impacts the number of results. It is fairly surprising that a query could return over 1000 results, but that likely speaks to the popularity and breadth of certain products. Given the mean count is approximately 500 it would seem as though certain products may have substantial variety in general. On the low end perhaps the searches cannot be clearly inferred, but additional review will need to be conducted."
   ]
  },
  {
   "cell_type": "code",
   "execution_count": 26,
   "id": "8b71784d",
   "metadata": {},
   "outputs": [
    {
     "data": {
      "text/html": [
       "<div>\n",
       "<style scoped>\n",
       "    .dataframe tbody tr th:only-of-type {\n",
       "        vertical-align: middle;\n",
       "    }\n",
       "\n",
       "    .dataframe tbody tr th {\n",
       "        vertical-align: top;\n",
       "    }\n",
       "\n",
       "    .dataframe thead th {\n",
       "        text-align: right;\n",
       "    }\n",
       "</style>\n",
       "<table border=\"1\" class=\"dataframe\">\n",
       "  <thead>\n",
       "    <tr style=\"text-align: right;\">\n",
       "      <th></th>\n",
       "      <th>query_id</th>\n",
       "      <th>query</th>\n",
       "      <th>query_class</th>\n",
       "      <th>number_of_terms</th>\n",
       "    </tr>\n",
       "  </thead>\n",
       "  <tbody>\n",
       "    <tr>\n",
       "      <th>0</th>\n",
       "      <td>0</td>\n",
       "      <td>salon chair</td>\n",
       "      <td>Massage Chairs</td>\n",
       "      <td>2</td>\n",
       "    </tr>\n",
       "    <tr>\n",
       "      <th>1</th>\n",
       "      <td>1</td>\n",
       "      <td>smart coffee table</td>\n",
       "      <td>Coffee &amp; Cocktail Tables</td>\n",
       "      <td>3</td>\n",
       "    </tr>\n",
       "    <tr>\n",
       "      <th>2</th>\n",
       "      <td>2</td>\n",
       "      <td>dinosaur</td>\n",
       "      <td>Kids Wall Décor</td>\n",
       "      <td>1</td>\n",
       "    </tr>\n",
       "    <tr>\n",
       "      <th>3</th>\n",
       "      <td>3</td>\n",
       "      <td>turquoise pillows</td>\n",
       "      <td>Accent Pillows</td>\n",
       "      <td>2</td>\n",
       "    </tr>\n",
       "    <tr>\n",
       "      <th>4</th>\n",
       "      <td>4</td>\n",
       "      <td>chair and a half recliner</td>\n",
       "      <td>Recliners</td>\n",
       "      <td>5</td>\n",
       "    </tr>\n",
       "  </tbody>\n",
       "</table>\n",
       "</div>"
      ],
      "text/plain": [
       "   query_id                      query               query_class  \\\n",
       "0         0                salon chair            Massage Chairs   \n",
       "1         1         smart coffee table  Coffee & Cocktail Tables   \n",
       "2         2                   dinosaur           Kids Wall Décor   \n",
       "3         3          turquoise pillows            Accent Pillows   \n",
       "4         4  chair and a half recliner                 Recliners   \n",
       "\n",
       "   number_of_terms  \n",
       "0                2  \n",
       "1                3  \n",
       "2                1  \n",
       "3                2  \n",
       "4                5  "
      ]
     },
     "execution_count": 26,
     "metadata": {},
     "output_type": "execute_result"
    }
   ],
   "source": [
    "query_df = pd.read_csv(queries,delimiter='\\t')\n",
    "query_df['number_of_terms'] = query_df['query'].apply(lambda words: len([word for word in words.split()]))\n",
    "query_df.head()"
   ]
  },
  {
   "cell_type": "code",
   "execution_count": 29,
   "id": "3d896c81",
   "metadata": {},
   "outputs": [
    {
     "data": {
      "text/plain": [
       "count    480.000000\n",
       "mean       3.381250\n",
       "std        1.495457\n",
       "min        1.000000\n",
       "25%        2.000000\n",
       "50%        3.000000\n",
       "75%        4.000000\n",
       "max       10.000000\n",
       "Name: number_of_terms, dtype: float64"
      ]
     },
     "execution_count": 29,
     "metadata": {},
     "output_type": "execute_result"
    }
   ],
   "source": [
    "query_df['number_of_terms'].describe()"
   ]
  },
  {
   "cell_type": "code",
   "execution_count": 27,
   "id": "6b56713e",
   "metadata": {},
   "outputs": [
    {
     "name": "stdout",
     "output_type": "stream",
     "text": [
      "query_id            int64\n",
      "query              object\n",
      "query_class        object\n",
      "number_of_terms     int64\n",
      "dtype: object (480, 4)\n"
     ]
    }
   ],
   "source": [
    "print(query_df.dtypes,query_df.shape)"
   ]
  },
  {
   "cell_type": "code",
   "execution_count": 52,
   "id": "c594f749",
   "metadata": {},
   "outputs": [],
   "source": [
    "num_terms = query_df.groupby('number_of_terms')['query'].count().reset_index()\n",
    "num_terms.rename(columns={'query':'count'},inplace=True)"
   ]
  },
  {
   "cell_type": "code",
   "execution_count": 56,
   "id": "8c112a15",
   "metadata": {},
   "outputs": [
    {
     "data": {
      "image/png": "[encoded data removed]",
      "text/plain": [
       "<Figure size 640x480 with 1 Axes>"
      ]
     },
     "metadata": {},
     "output_type": "display_data"
    }
   ],
   "source": [
    "sns.histplot(x='number_of_terms',data=query_df).set_title('Number of Search Terms in Wayfair')\n",
    "plt.show();"
   ]
  },
  {
   "cell_type": "markdown",
   "id": "8de61b7f",
   "metadata": {},
   "source": [
    "The shape of the dataset appears to be approximately normal aside from a minor skew to the right above 6 terms"
   ]
  },
  {
   "cell_type": "code",
   "execution_count": 63,
   "id": "c4fbf166",
   "metadata": {},
   "outputs": [
    {
     "data": {
      "text/html": [
       "<div>\n",
       "<style scoped>\n",
       "    .dataframe tbody tr th:only-of-type {\n",
       "        vertical-align: middle;\n",
       "    }\n",
       "\n",
       "    .dataframe tbody tr th {\n",
       "        vertical-align: top;\n",
       "    }\n",
       "\n",
       "    .dataframe thead th {\n",
       "        text-align: right;\n",
       "    }\n",
       "</style>\n",
       "<table border=\"1\" class=\"dataframe\">\n",
       "  <thead>\n",
       "    <tr style=\"text-align: right;\">\n",
       "      <th></th>\n",
       "      <th>id_x</th>\n",
       "      <th>query_id</th>\n",
       "      <th>product_id</th>\n",
       "      <th>label</th>\n",
       "      <th>query</th>\n",
       "      <th>query_class</th>\n",
       "      <th>number_of_terms</th>\n",
       "      <th>number_of_results</th>\n",
       "    </tr>\n",
       "  </thead>\n",
       "  <tbody>\n",
       "    <tr>\n",
       "      <th>0</th>\n",
       "      <td>0</td>\n",
       "      <td>0</td>\n",
       "      <td>25434</td>\n",
       "      <td>Exact</td>\n",
       "      <td>salon chair</td>\n",
       "      <td>Massage Chairs</td>\n",
       "      <td>2</td>\n",
       "      <td>3303</td>\n",
       "    </tr>\n",
       "    <tr>\n",
       "      <th>1</th>\n",
       "      <td>1</td>\n",
       "      <td>0</td>\n",
       "      <td>12088</td>\n",
       "      <td>Irrelevant</td>\n",
       "      <td>salon chair</td>\n",
       "      <td>Massage Chairs</td>\n",
       "      <td>2</td>\n",
       "      <td>3303</td>\n",
       "    </tr>\n",
       "    <tr>\n",
       "      <th>2</th>\n",
       "      <td>2</td>\n",
       "      <td>0</td>\n",
       "      <td>42931</td>\n",
       "      <td>Exact</td>\n",
       "      <td>salon chair</td>\n",
       "      <td>Massage Chairs</td>\n",
       "      <td>2</td>\n",
       "      <td>3303</td>\n",
       "    </tr>\n",
       "    <tr>\n",
       "      <th>3</th>\n",
       "      <td>3</td>\n",
       "      <td>0</td>\n",
       "      <td>2636</td>\n",
       "      <td>Exact</td>\n",
       "      <td>salon chair</td>\n",
       "      <td>Massage Chairs</td>\n",
       "      <td>2</td>\n",
       "      <td>3303</td>\n",
       "    </tr>\n",
       "    <tr>\n",
       "      <th>4</th>\n",
       "      <td>4</td>\n",
       "      <td>0</td>\n",
       "      <td>42923</td>\n",
       "      <td>Exact</td>\n",
       "      <td>salon chair</td>\n",
       "      <td>Massage Chairs</td>\n",
       "      <td>2</td>\n",
       "      <td>3303</td>\n",
       "    </tr>\n",
       "  </tbody>\n",
       "</table>\n",
       "</div>"
      ],
      "text/plain": [
       "   id_x  query_id  product_id       label        query     query_class  \\\n",
       "0     0         0       25434       Exact  salon chair  Massage Chairs   \n",
       "1     1         0       12088  Irrelevant  salon chair  Massage Chairs   \n",
       "2     2         0       42931       Exact  salon chair  Massage Chairs   \n",
       "3     3         0        2636       Exact  salon chair  Massage Chairs   \n",
       "4     4         0       42923       Exact  salon chair  Massage Chairs   \n",
       "\n",
       "   number_of_terms  number_of_results  \n",
       "0                2               3303  \n",
       "1                2               3303  \n",
       "2                2               3303  \n",
       "3                2               3303  \n",
       "4                2               3303  "
      ]
     },
     "execution_count": 63,
     "metadata": {},
     "output_type": "execute_result"
    }
   ],
   "source": [
    "label_query_df = pd.merge(label_df,query_df,how='inner',on='query_id')\n",
    "label_query_df = pd.merge(label_query_df,grouped_query_df,how='inner',left_on='query_id',right_index=True)\n",
    "label_query_df.rename(columns={'id_y':'number_of_results'},inplace=True)\n",
    "label_query_df.head()"
   ]
  },
  {
   "cell_type": "code",
   "execution_count": 66,
   "id": "a11c6995",
   "metadata": {},
   "outputs": [
    {
     "data": {
      "image/png": "[encoded data removed]",
      "text/plain": [
       "<Figure size 640x480 with 1 Axes>"
      ]
     },
     "metadata": {},
     "output_type": "display_data"
    }
   ],
   "source": [
    "sns.scatterplot(x='number_of_terms',y='number_of_results',data=label_query_df).set_title('Reviewing relationship between number of search results vs number of search terms')\n",
    "plt.show();"
   ]
  },
  {
   "cell_type": "markdown",
   "id": "eee27bcb",
   "metadata": {},
   "source": [
    "There is not a clear relationship between the number of search terms versus search results as there is possibly a slight negative linear pattern, but it appears there isn't a linear relationship between the two potential features"
   ]
  },
  {
   "cell_type": "markdown",
   "id": "ef8a9cd9",
   "metadata": {},
   "source": [
    "#### Calculating Pearson Correlation Coefficient\n",
    "Confirming the visual review of the scatterplot"
   ]
  },
  {
   "cell_type": "code",
   "execution_count": 67,
   "id": "8f3d7e96",
   "metadata": {},
   "outputs": [
    {
     "data": {
      "text/plain": [
       "-0.3585317151200766"
      ]
     },
     "execution_count": 67,
     "metadata": {},
     "output_type": "execute_result"
    }
   ],
   "source": [
    "label_query_df['number_of_terms'].corr(label_query_df['number_of_results'])"
   ]
  },
  {
   "cell_type": "code",
   "execution_count": 68,
   "id": "7efaf84a",
   "metadata": {},
   "outputs": [
    {
     "data": {
      "text/html": [
       "<div>\n",
       "<style scoped>\n",
       "    .dataframe tbody tr th:only-of-type {\n",
       "        vertical-align: middle;\n",
       "    }\n",
       "\n",
       "    .dataframe tbody tr th {\n",
       "        vertical-align: top;\n",
       "    }\n",
       "\n",
       "    .dataframe thead th {\n",
       "        text-align: right;\n",
       "    }\n",
       "</style>\n",
       "<table border=\"1\" class=\"dataframe\">\n",
       "  <thead>\n",
       "    <tr style=\"text-align: right;\">\n",
       "      <th></th>\n",
       "      <th>product_id</th>\n",
       "      <th>product_name</th>\n",
       "      <th>product_class</th>\n",
       "      <th>category hierarchy</th>\n",
       "      <th>product_description</th>\n",
       "      <th>product_features</th>\n",
       "      <th>rating_count</th>\n",
       "      <th>average_rating</th>\n",
       "      <th>review_count</th>\n",
       "    </tr>\n",
       "  </thead>\n",
       "  <tbody>\n",
       "    <tr>\n",
       "      <th>0</th>\n",
       "      <td>0</td>\n",
       "      <td>solid wood platform bed</td>\n",
       "      <td>Beds</td>\n",
       "      <td>Furniture / Bedroom Furniture / Beds &amp; Headboa...</td>\n",
       "      <td>good , deep sleep can be quite difficult to ha...</td>\n",
       "      <td>overallwidth-sidetoside:64.7|dsprimaryproducts...</td>\n",
       "      <td>15.0</td>\n",
       "      <td>4.5</td>\n",
       "      <td>15.0</td>\n",
       "    </tr>\n",
       "    <tr>\n",
       "      <th>1</th>\n",
       "      <td>1</td>\n",
       "      <td>all-clad 7 qt . slow cooker</td>\n",
       "      <td>Slow Cookers</td>\n",
       "      <td>Kitchen &amp; Tabletop / Small Kitchen Appliances ...</td>\n",
       "      <td>create delicious slow-cooked meals , from tend...</td>\n",
       "      <td>capacityquarts:7|producttype : slow cooker|pro...</td>\n",
       "      <td>100.0</td>\n",
       "      <td>2.0</td>\n",
       "      <td>98.0</td>\n",
       "    </tr>\n",
       "    <tr>\n",
       "      <th>2</th>\n",
       "      <td>2</td>\n",
       "      <td>all-clad electrics 6.5 qt . slow cooker</td>\n",
       "      <td>Slow Cookers</td>\n",
       "      <td>Kitchen &amp; Tabletop / Small Kitchen Appliances ...</td>\n",
       "      <td>prepare home-cooked meals on any schedule with...</td>\n",
       "      <td>features : keep warm setting|capacityquarts:6....</td>\n",
       "      <td>208.0</td>\n",
       "      <td>3.0</td>\n",
       "      <td>181.0</td>\n",
       "    </tr>\n",
       "    <tr>\n",
       "      <th>3</th>\n",
       "      <td>3</td>\n",
       "      <td>all-clad all professional tools pizza cutter</td>\n",
       "      <td>Slicers, Peelers And Graters</td>\n",
       "      <td>Browse By Brand / All-Clad</td>\n",
       "      <td>this original stainless tool was designed to c...</td>\n",
       "      <td>overallwidth-sidetoside:3.5|warrantylength : l...</td>\n",
       "      <td>69.0</td>\n",
       "      <td>4.5</td>\n",
       "      <td>42.0</td>\n",
       "    </tr>\n",
       "    <tr>\n",
       "      <th>4</th>\n",
       "      <td>4</td>\n",
       "      <td>baldwin prestige alcott passage knob with roun...</td>\n",
       "      <td>Door Knobs</td>\n",
       "      <td>Home Improvement / Doors &amp; Door Hardware / Doo...</td>\n",
       "      <td>the hardware has a rich heritage of delivering...</td>\n",
       "      <td>compatibledoorthickness:1.375 '' |countryofori...</td>\n",
       "      <td>70.0</td>\n",
       "      <td>5.0</td>\n",
       "      <td>42.0</td>\n",
       "    </tr>\n",
       "  </tbody>\n",
       "</table>\n",
       "</div>"
      ],
      "text/plain": [
       "   product_id                                       product_name  \\\n",
       "0           0                            solid wood platform bed   \n",
       "1           1                        all-clad 7 qt . slow cooker   \n",
       "2           2            all-clad electrics 6.5 qt . slow cooker   \n",
       "3           3       all-clad all professional tools pizza cutter   \n",
       "4           4  baldwin prestige alcott passage knob with roun...   \n",
       "\n",
       "                  product_class  \\\n",
       "0                          Beds   \n",
       "1                  Slow Cookers   \n",
       "2                  Slow Cookers   \n",
       "3  Slicers, Peelers And Graters   \n",
       "4                    Door Knobs   \n",
       "\n",
       "                                  category hierarchy  \\\n",
       "0  Furniture / Bedroom Furniture / Beds & Headboa...   \n",
       "1  Kitchen & Tabletop / Small Kitchen Appliances ...   \n",
       "2  Kitchen & Tabletop / Small Kitchen Appliances ...   \n",
       "3                         Browse By Brand / All-Clad   \n",
       "4  Home Improvement / Doors & Door Hardware / Doo...   \n",
       "\n",
       "                                 product_description  \\\n",
       "0  good , deep sleep can be quite difficult to ha...   \n",
       "1  create delicious slow-cooked meals , from tend...   \n",
       "2  prepare home-cooked meals on any schedule with...   \n",
       "3  this original stainless tool was designed to c...   \n",
       "4  the hardware has a rich heritage of delivering...   \n",
       "\n",
       "                                    product_features  rating_count  \\\n",
       "0  overallwidth-sidetoside:64.7|dsprimaryproducts...          15.0   \n",
       "1  capacityquarts:7|producttype : slow cooker|pro...         100.0   \n",
       "2  features : keep warm setting|capacityquarts:6....         208.0   \n",
       "3  overallwidth-sidetoside:3.5|warrantylength : l...          69.0   \n",
       "4  compatibledoorthickness:1.375 '' |countryofori...          70.0   \n",
       "\n",
       "   average_rating  review_count  \n",
       "0             4.5          15.0  \n",
       "1             2.0          98.0  \n",
       "2             3.0         181.0  \n",
       "3             4.5          42.0  \n",
       "4             5.0          42.0  "
      ]
     },
     "execution_count": 68,
     "metadata": {},
     "output_type": "execute_result"
    }
   ],
   "source": [
    "product_df = pd.read_csv(products,delimiter='\\t')\n",
    "product_df.head()"
   ]
  },
  {
   "cell_type": "code",
   "execution_count": 69,
   "id": "a2680b34",
   "metadata": {},
   "outputs": [
    {
     "data": {
      "text/plain": [
       "(product_id               int64\n",
       " product_name            object\n",
       " product_class           object\n",
       " category hierarchy      object\n",
       " product_description     object\n",
       " product_features        object\n",
       " rating_count           float64\n",
       " average_rating         float64\n",
       " review_count           float64\n",
       " dtype: object,\n",
       " (42994, 9))"
      ]
     },
     "execution_count": 69,
     "metadata": {},
     "output_type": "execute_result"
    }
   ],
   "source": [
    "(product_df.dtypes,product_df.shape)"
   ]
  },
  {
   "cell_type": "code",
   "execution_count": 74,
   "id": "4c458ea5",
   "metadata": {},
   "outputs": [
    {
     "data": {
      "text/html": [
       "<div>\n",
       "<style scoped>\n",
       "    .dataframe tbody tr th:only-of-type {\n",
       "        vertical-align: middle;\n",
       "    }\n",
       "\n",
       "    .dataframe tbody tr th {\n",
       "        vertical-align: top;\n",
       "    }\n",
       "\n",
       "    .dataframe thead th {\n",
       "        text-align: right;\n",
       "    }\n",
       "</style>\n",
       "<table border=\"1\" class=\"dataframe\">\n",
       "  <thead>\n",
       "    <tr style=\"text-align: right;\">\n",
       "      <th></th>\n",
       "      <th>product_id</th>\n",
       "      <th>rating_count</th>\n",
       "      <th>average_rating</th>\n",
       "      <th>review_count</th>\n",
       "    </tr>\n",
       "  </thead>\n",
       "  <tbody>\n",
       "    <tr>\n",
       "      <th>count</th>\n",
       "      <td>42994.000000</td>\n",
       "      <td>33542.000000</td>\n",
       "      <td>33542.000000</td>\n",
       "      <td>33542.000000</td>\n",
       "    </tr>\n",
       "    <tr>\n",
       "      <th>mean</th>\n",
       "      <td>21496.500000</td>\n",
       "      <td>430.270437</td>\n",
       "      <td>4.530126</td>\n",
       "      <td>284.250343</td>\n",
       "    </tr>\n",
       "    <tr>\n",
       "      <th>std</th>\n",
       "      <td>12411.443073</td>\n",
       "      <td>2407.921579</td>\n",
       "      <td>0.509263</td>\n",
       "      <td>1539.611737</td>\n",
       "    </tr>\n",
       "    <tr>\n",
       "      <th>min</th>\n",
       "      <td>0.000000</td>\n",
       "      <td>1.000000</td>\n",
       "      <td>1.000000</td>\n",
       "      <td>0.000000</td>\n",
       "    </tr>\n",
       "    <tr>\n",
       "      <th>25%</th>\n",
       "      <td>10748.250000</td>\n",
       "      <td>8.000000</td>\n",
       "      <td>4.500000</td>\n",
       "      <td>6.000000</td>\n",
       "    </tr>\n",
       "    <tr>\n",
       "      <th>50%</th>\n",
       "      <td>21496.500000</td>\n",
       "      <td>42.000000</td>\n",
       "      <td>4.500000</td>\n",
       "      <td>31.000000</td>\n",
       "    </tr>\n",
       "    <tr>\n",
       "      <th>75%</th>\n",
       "      <td>32244.750000</td>\n",
       "      <td>195.000000</td>\n",
       "      <td>5.000000</td>\n",
       "      <td>131.000000</td>\n",
       "    </tr>\n",
       "    <tr>\n",
       "      <th>max</th>\n",
       "      <td>42993.000000</td>\n",
       "      <td>109226.000000</td>\n",
       "      <td>5.000000</td>\n",
       "      <td>61362.000000</td>\n",
       "    </tr>\n",
       "  </tbody>\n",
       "</table>\n",
       "</div>"
      ],
      "text/plain": [
       "         product_id   rating_count  average_rating  review_count\n",
       "count  42994.000000   33542.000000    33542.000000  33542.000000\n",
       "mean   21496.500000     430.270437        4.530126    284.250343\n",
       "std    12411.443073    2407.921579        0.509263   1539.611737\n",
       "min        0.000000       1.000000        1.000000      0.000000\n",
       "25%    10748.250000       8.000000        4.500000      6.000000\n",
       "50%    21496.500000      42.000000        4.500000     31.000000\n",
       "75%    32244.750000     195.000000        5.000000    131.000000\n",
       "max    42993.000000  109226.000000        5.000000  61362.000000"
      ]
     },
     "execution_count": 74,
     "metadata": {},
     "output_type": "execute_result"
    }
   ],
   "source": [
    "product_df.describe()"
   ]
  },
  {
   "cell_type": "code",
   "execution_count": 75,
   "id": "34be76a0",
   "metadata": {},
   "outputs": [
    {
     "data": {
      "text/plain": [
       "product_id                0\n",
       "product_name              0\n",
       "product_class          2852\n",
       "category hierarchy     1556\n",
       "product_description    6008\n",
       "product_features          0\n",
       "rating_count           9452\n",
       "average_rating         9452\n",
       "review_count           9452\n",
       "dtype: int64"
      ]
     },
     "execution_count": 75,
     "metadata": {},
     "output_type": "execute_result"
    }
   ],
   "source": [
    "product_df.isnull().sum()"
   ]
  },
  {
   "cell_type": "markdown",
   "id": "423d2435",
   "metadata": {},
   "source": [
    "There are some null values in the product dataset that may need to be handled in the network analysis."
   ]
  },
  {
   "cell_type": "code",
   "execution_count": 73,
   "id": "8b1cc0e9",
   "metadata": {},
   "outputs": [
    {
     "data": {
      "image/png": "[encoded data removed]",
      "text/plain": [
       "<Figure size 640x480 with 1 Axes>"
      ]
     },
     "metadata": {},
     "output_type": "display_data"
    }
   ],
   "source": [
    "sns.histplot(x='rating_count',data=product_df, bins=10)\n",
    "plt.show();"
   ]
  },
  {
   "cell_type": "code",
   "execution_count": 94,
   "id": "6122781d",
   "metadata": {},
   "outputs": [
    {
     "data": {
      "image/png": "[encoded data removed]",
      "text/plain": [
       "<Figure size 640x480 with 2 Axes>"
      ]
     },
     "metadata": {},
     "output_type": "display_data"
    }
   ],
   "source": [
    "fig, ax = plt.subplots(1,2)\n",
    "sns.histplot(x='rating_count',data=product_df[product_df['rating_count']<1000], ax=ax[0])\n",
    "sns.histplot(x='rating_count',data=product_df[product_df['rating_count']>5000], ax=ax[1])\n",
    "ax[1].set_xlim(5000,110000)\n",
    "ax[1].set_xticks(np.linspace(5000,110000,5))\n",
    "fig.suptitle('Tracking Rating Counts across all products at Wayfair')\n",
    "#sns.histplot(x='rating_count',data=product_df[(product_df['rating_count']>1000)& (product_df['rating_count']>1000)], ax=ax[1])\n",
    "plt.show();"
   ]
  },
  {
   "cell_type": "code",
   "execution_count": 97,
   "id": "c2f3ec84",
   "metadata": {},
   "outputs": [
    {
     "name": "stdout",
     "output_type": "stream",
     "text": [
      "(233448, 16)\n"
     ]
    },
    {
     "data": {
      "text/html": [
       "<div>\n",
       "<style scoped>\n",
       "    .dataframe tbody tr th:only-of-type {\n",
       "        vertical-align: middle;\n",
       "    }\n",
       "\n",
       "    .dataframe tbody tr th {\n",
       "        vertical-align: top;\n",
       "    }\n",
       "\n",
       "    .dataframe thead th {\n",
       "        text-align: right;\n",
       "    }\n",
       "</style>\n",
       "<table border=\"1\" class=\"dataframe\">\n",
       "  <thead>\n",
       "    <tr style=\"text-align: right;\">\n",
       "      <th></th>\n",
       "      <th>id_x</th>\n",
       "      <th>query_id</th>\n",
       "      <th>product_id</th>\n",
       "      <th>label</th>\n",
       "      <th>query</th>\n",
       "      <th>query_class</th>\n",
       "      <th>number_of_terms</th>\n",
       "      <th>number_of_results</th>\n",
       "      <th>product_name</th>\n",
       "      <th>product_class</th>\n",
       "      <th>category hierarchy</th>\n",
       "      <th>product_description</th>\n",
       "      <th>product_features</th>\n",
       "      <th>rating_count</th>\n",
       "      <th>average_rating</th>\n",
       "      <th>review_count</th>\n",
       "    </tr>\n",
       "  </thead>\n",
       "  <tbody>\n",
       "    <tr>\n",
       "      <th>0</th>\n",
       "      <td>0</td>\n",
       "      <td>0</td>\n",
       "      <td>25434</td>\n",
       "      <td>Exact</td>\n",
       "      <td>salon chair</td>\n",
       "      <td>Massage Chairs</td>\n",
       "      <td>2</td>\n",
       "      <td>3303</td>\n",
       "      <td>21.7 '' w waiting room chair with wood frame</td>\n",
       "      <td>Waiting Room Chairs</td>\n",
       "      <td>Commercial Business Furniture / Commercial Off...</td>\n",
       "      <td>this is a salon chair , barber chair for a hai...</td>\n",
       "      <td>backupholsterycolor : champagne|primarymateria...</td>\n",
       "      <td>NaN</td>\n",
       "      <td>NaN</td>\n",
       "      <td>NaN</td>\n",
       "    </tr>\n",
       "    <tr>\n",
       "      <th>1</th>\n",
       "      <td>68634</td>\n",
       "      <td>26</td>\n",
       "      <td>25434</td>\n",
       "      <td>Exact</td>\n",
       "      <td>leather chairs</td>\n",
       "      <td>Accent Chairs</td>\n",
       "      <td>2</td>\n",
       "      <td>3748</td>\n",
       "      <td>21.7 '' w waiting room chair with wood frame</td>\n",
       "      <td>Waiting Room Chairs</td>\n",
       "      <td>Commercial Business Furniture / Commercial Off...</td>\n",
       "      <td>this is a salon chair , barber chair for a hai...</td>\n",
       "      <td>backupholsterycolor : champagne|primarymateria...</td>\n",
       "      <td>NaN</td>\n",
       "      <td>NaN</td>\n",
       "      <td>NaN</td>\n",
       "    </tr>\n",
       "    <tr>\n",
       "      <th>2</th>\n",
       "      <td>85371</td>\n",
       "      <td>131</td>\n",
       "      <td>25434</td>\n",
       "      <td>Partial</td>\n",
       "      <td>kids chair</td>\n",
       "      <td>Kids Chairs</td>\n",
       "      <td>2</td>\n",
       "      <td>3479</td>\n",
       "      <td>21.7 '' w waiting room chair with wood frame</td>\n",
       "      <td>Waiting Room Chairs</td>\n",
       "      <td>Commercial Business Furniture / Commercial Off...</td>\n",
       "      <td>this is a salon chair , barber chair for a hai...</td>\n",
       "      <td>backupholsterycolor : champagne|primarymateria...</td>\n",
       "      <td>NaN</td>\n",
       "      <td>NaN</td>\n",
       "      <td>NaN</td>\n",
       "    </tr>\n",
       "    <tr>\n",
       "      <th>3</th>\n",
       "      <td>90015</td>\n",
       "      <td>151</td>\n",
       "      <td>25434</td>\n",
       "      <td>Partial</td>\n",
       "      <td>leather chair</td>\n",
       "      <td>Accent Chairs</td>\n",
       "      <td>2</td>\n",
       "      <td>3042</td>\n",
       "      <td>21.7 '' w waiting room chair with wood frame</td>\n",
       "      <td>Waiting Room Chairs</td>\n",
       "      <td>Commercial Business Furniture / Commercial Off...</td>\n",
       "      <td>this is a salon chair , barber chair for a hai...</td>\n",
       "      <td>backupholsterycolor : champagne|primarymateria...</td>\n",
       "      <td>NaN</td>\n",
       "      <td>NaN</td>\n",
       "      <td>NaN</td>\n",
       "    </tr>\n",
       "    <tr>\n",
       "      <th>4</th>\n",
       "      <td>91500</td>\n",
       "      <td>152</td>\n",
       "      <td>25434</td>\n",
       "      <td>Partial</td>\n",
       "      <td>wishbone chair</td>\n",
       "      <td>Dining Chairs</td>\n",
       "      <td>2</td>\n",
       "      <td>3288</td>\n",
       "      <td>21.7 '' w waiting room chair with wood frame</td>\n",
       "      <td>Waiting Room Chairs</td>\n",
       "      <td>Commercial Business Furniture / Commercial Off...</td>\n",
       "      <td>this is a salon chair , barber chair for a hai...</td>\n",
       "      <td>backupholsterycolor : champagne|primarymateria...</td>\n",
       "      <td>NaN</td>\n",
       "      <td>NaN</td>\n",
       "      <td>NaN</td>\n",
       "    </tr>\n",
       "  </tbody>\n",
       "</table>\n",
       "</div>"
      ],
      "text/plain": [
       "    id_x  query_id  product_id    label           query     query_class  \\\n",
       "0      0         0       25434    Exact     salon chair  Massage Chairs   \n",
       "1  68634        26       25434    Exact  leather chairs   Accent Chairs   \n",
       "2  85371       131       25434  Partial      kids chair     Kids Chairs   \n",
       "3  90015       151       25434  Partial   leather chair   Accent Chairs   \n",
       "4  91500       152       25434  Partial  wishbone chair   Dining Chairs   \n",
       "\n",
       "   number_of_terms  number_of_results  \\\n",
       "0                2               3303   \n",
       "1                2               3748   \n",
       "2                2               3479   \n",
       "3                2               3042   \n",
       "4                2               3288   \n",
       "\n",
       "                                   product_name        product_class  \\\n",
       "0  21.7 '' w waiting room chair with wood frame  Waiting Room Chairs   \n",
       "1  21.7 '' w waiting room chair with wood frame  Waiting Room Chairs   \n",
       "2  21.7 '' w waiting room chair with wood frame  Waiting Room Chairs   \n",
       "3  21.7 '' w waiting room chair with wood frame  Waiting Room Chairs   \n",
       "4  21.7 '' w waiting room chair with wood frame  Waiting Room Chairs   \n",
       "\n",
       "                                  category hierarchy  \\\n",
       "0  Commercial Business Furniture / Commercial Off...   \n",
       "1  Commercial Business Furniture / Commercial Off...   \n",
       "2  Commercial Business Furniture / Commercial Off...   \n",
       "3  Commercial Business Furniture / Commercial Off...   \n",
       "4  Commercial Business Furniture / Commercial Off...   \n",
       "\n",
       "                                 product_description  \\\n",
       "0  this is a salon chair , barber chair for a hai...   \n",
       "1  this is a salon chair , barber chair for a hai...   \n",
       "2  this is a salon chair , barber chair for a hai...   \n",
       "3  this is a salon chair , barber chair for a hai...   \n",
       "4  this is a salon chair , barber chair for a hai...   \n",
       "\n",
       "                                    product_features  rating_count  \\\n",
       "0  backupholsterycolor : champagne|primarymateria...           NaN   \n",
       "1  backupholsterycolor : champagne|primarymateria...           NaN   \n",
       "2  backupholsterycolor : champagne|primarymateria...           NaN   \n",
       "3  backupholsterycolor : champagne|primarymateria...           NaN   \n",
       "4  backupholsterycolor : champagne|primarymateria...           NaN   \n",
       "\n",
       "   average_rating  review_count  \n",
       "0             NaN           NaN  \n",
       "1             NaN           NaN  \n",
       "2             NaN           NaN  \n",
       "3             NaN           NaN  \n",
       "4             NaN           NaN  "
      ]
     },
     "execution_count": 97,
     "metadata": {},
     "output_type": "execute_result"
    }
   ],
   "source": [
    "full_df = pd.merge(label_query_df,product_df,how='inner',on='product_id')\n",
    "print(full_df.shape)\n",
    "full_df.head()"
   ]
  },
  {
   "cell_type": "code",
   "execution_count": null,
   "id": "6c8d67cf",
   "metadata": {},
   "outputs": [],
   "source": []
  }
 ],
 "metadata": {
  "kernelspec": {
   "display_name": "Python 3 (ipykernel)",
   "language": "python",
   "name": "python3"
  },
  "language_info": {
   "codemirror_mode": {
    "name": "ipython",
    "version": 3
   },
   "file_extension": ".py",
   "mimetype": "text/x-python",
   "name": "python",
   "nbconvert_exporter": "python",
   "pygments_lexer": "ipython3",
   "version": "3.10.9"
  }
 },
 "nbformat": 4,
 "nbformat_minor": 5
}
